{
 "cells": [
  {
   "cell_type": "markdown",
   "metadata": {},
   "source": [
    "### Importing all the images"
   ]
  },
  {
   "cell_type": "code",
   "execution_count": 1,
   "metadata": {},
   "outputs": [],
   "source": [
    "import os\n",
    "import matplotlib.pyplot as plt\n",
    "import cv2\n",
    "import random\n",
    "import numpy as np\n",
    "from tqdm import tqdm\n",
    "\n",
    "import torch\n",
    "import torchvision\n",
    "from torch.utils.data import Dataset, DataLoader"
   ]
  },
  {
   "cell_type": "code",
   "execution_count": 2,
   "metadata": {},
   "outputs": [],
   "source": [
    "class ImageDataset(Dataset) :\n",
    "\n",
    "    def __init__(self) :\n",
    "        self.root_path = 'PACS/kfold/'\n",
    "\n",
    "        # Listing the domains\n",
    "        self.domains = os.listdir(self.root_path)\n",
    "\n",
    "        # Listing the classes \n",
    "        self.classes = os.listdir(self.root_path+'cartoon')\n",
    "\n",
    "        self.images = []\n",
    "        self.domains_y = []\n",
    "        self.classes_y = []\n",
    "\n",
    "        for i_dom, domain in tqdm(enumerate(self.domains)) :\n",
    "            for i_cla, cla in enumerate(self.classes) :\n",
    "                for image in os.listdir(self.root_path+domain+'/'+cla) :\n",
    "                    # Finding image path\n",
    "                    image_path = self.root_path+domain+'/'+cla+'/'+image\n",
    "                    img = cv2.imread(image_path)\n",
    "                    img = cv2.cvtColor(img, cv2.COLOR_BGR2RGB)\n",
    "                    self.images.append(img)\n",
    "                    self.domains_y.append(i_dom)\n",
    "                    self.classes_y.append(i_cla)\n",
    "\n",
    "        self.images = np.array(self.images)\n",
    "        self.domains_y = np.array(self.domains_y)\n",
    "        self.classes_y = np.array(self.classes_y)\n",
    "\n",
    "\n",
    "        self.images = torch.Tensor(self.images)\n",
    "        self.domains_y = torch.Tensor(self.domains_y)\n",
    "        self.classes_y = torch.Tensor(self.classes_y)\n",
    "\n",
    "    def __getitem__(self, index) :\n",
    "        return self.images[index], self.domains_y[index], self.classes_y[index]\n",
    "\n",
    "    def __len__(self) :\n",
    "        return self.length"
   ]
  },
  {
   "cell_type": "code",
   "execution_count": 3,
   "metadata": {},
   "outputs": [
    {
     "name": "stderr",
     "output_type": "stream",
     "text": [
      "4it [00:08,  2.22s/it]\n"
     ]
    }
   ],
   "source": [
    "dataset = ImageDataset()"
   ]
  },
  {
   "cell_type": "code",
   "execution_count": 4,
   "metadata": {},
   "outputs": [],
   "source": [
    "img, domain, cla = dataset[0]"
   ]
  },
  {
   "cell_type": "markdown",
   "metadata": {},
   "source": [
    "### Train-Test split"
   ]
  },
  {
   "cell_type": "code",
   "execution_count": 6,
   "metadata": {},
   "outputs": [],
   "source": [
    "train_images = images[:1200]\n",
    "test_images = images[1200:]"
   ]
  },
  {
   "cell_type": "code",
   "execution_count": 7,
   "metadata": {},
   "outputs": [],
   "source": [
    "import torch\n",
    "import torch.nn as nn\n",
    "import torch.optim as optim"
   ]
  },
  {
   "cell_type": "code",
   "execution_count": 8,
   "metadata": {},
   "outputs": [],
   "source": [
    "image_shape = (227, 227, 3)\n",
    "\n",
    "# Defining the model\n",
    "model = nn.Sequential(\n",
    "    # Input size 3 x 227 x 227\n",
    "    nn.Conv2d(3, 32, 4, 2),\n",
    "    nn.ReLU(),\n",
    "    # Current size 32 x 112 x 112 \n",
    "    nn.Conv2d(32, 32, 4, 4),\n",
    "    nn.ReLU(),\n",
    "    # Current size 32 x 28 x 28 \n",
    "    nn.MaxPool2d(2, 2),\n",
    "    # Current size 32 x 14 x 14\n",
    "    nn.Flatten(),\n",
    "    nn.Linear(32*14*14, 7),\n",
    "    nn.Sigmoid()\n",
    ")"
   ]
  },
  {
   "cell_type": "code",
   "execution_count": 12,
   "metadata": {},
   "outputs": [],
   "source": [
    "optimizer = optim.Adam(model.parameters(), lr=0.01)\n",
    "criterion = nn.CrossEntropyLoss()"
   ]
  },
  {
   "cell_type": "code",
   "execution_count": null,
   "metadata": {},
   "outputs": [],
   "source": []
  }
 ],
 "metadata": {
  "interpreter": {
   "hash": "f71267cb382aad57a1826fa66d359ca32b8120787d9413fb646158b5b727d965"
  },
  "kernelspec": {
   "display_name": "Python 3.9.7 ('base')",
   "language": "python",
   "name": "python3"
  },
  "language_info": {
   "codemirror_mode": {
    "name": "ipython",
    "version": 3
   },
   "file_extension": ".py",
   "mimetype": "text/x-python",
   "name": "python",
   "nbconvert_exporter": "python",
   "pygments_lexer": "ipython3",
   "version": "3.9.7"
  },
  "orig_nbformat": 4
 },
 "nbformat": 4,
 "nbformat_minor": 2
}
