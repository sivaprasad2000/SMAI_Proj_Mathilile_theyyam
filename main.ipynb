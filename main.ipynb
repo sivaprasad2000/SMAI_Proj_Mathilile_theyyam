{
 "cells": [
  {
   "cell_type": "markdown",
   "metadata": {},
   "source": [
    "Importing required libraries"
   ]
  },
  {
   "cell_type": "code",
   "execution_count": 1,
   "metadata": {},
   "outputs": [],
   "source": [
    "import os\n",
    "import matplotlib.pyplot as plt\n",
    "import cv2\n",
    "import random\n",
    "import numpy as np\n",
    "from tqdm import tqdm\n",
    "\n",
    "import torch\n",
    "import torchvision\n",
    "from torch.utils.data import Dataset, DataLoader\n",
    "from torch.utils.data import random_split\n",
    "import torchvision.transforms as transforms"
   ]
  },
  {
   "cell_type": "markdown",
   "metadata": {},
   "source": [
    "Creating dataset"
   ]
  },
  {
   "cell_type": "code",
   "execution_count": 2,
   "metadata": {},
   "outputs": [],
   "source": [
    "class ImageDataset(Dataset) :\n",
    "\n",
    "    def __init__(self, transform) :\n",
    "        self.root_path = 'PACS/kfold/'\n",
    "\n",
    "        # Listing the domains\n",
    "        self.domains = os.listdir(self.root_path)\n",
    "\n",
    "        # Listing the classes \n",
    "        self.classes = os.listdir(self.root_path+'cartoon')\n",
    "\n",
    "        # Transformations\n",
    "        self.transforms = transform\n",
    "\n",
    "        self.images = []\n",
    "        self.domains_y = []\n",
    "        self.classes_y = []\n",
    "\n",
    "        for i_dom, domain in enumerate(self.domains) :\n",
    "            for i_cla, cla in enumerate(self.classes) :\n",
    "                for image in os.listdir(self.root_path+domain+'/'+cla) :\n",
    "                    # Finding image path\n",
    "                    image_path = self.root_path+domain+'/'+cla+'/'+image\n",
    "                    img = cv2.imread(image_path)\n",
    "                    img = cv2.cvtColor(img, cv2.COLOR_BGR2RGB)\n",
    "                    self.images.append(img)\n",
    "                    self.domains_y.append(i_dom)\n",
    "                    self.classes_y.append(i_cla)\n",
    "\n",
    "        self.images = np.array(self.images)\n",
    "        self.domains_y = np.array(self.domains_y)\n",
    "        self.classes_y = np.array(self.classes_y)\n",
    "\n",
    "    def __getitem__(self, index) :\n",
    "        return self.transforms(self.images[index]), self.domains_y[index], self.classes_y[index]\n",
    "\n",
    "    def __len__(self) :\n",
    "        return len(self.images)"
   ]
  },
  {
   "cell_type": "markdown",
   "metadata": {},
   "source": [
    "Defining transforms"
   ]
  },
  {
   "cell_type": "code",
   "execution_count": 3,
   "metadata": {},
   "outputs": [],
   "source": [
    "transform = transforms.Compose([transforms.ToTensor(),\n",
    "                                transforms.Normalize([0.5, 0.5, 0.5], [0.5, 0.5, 0.5])])"
   ]
  },
  {
   "cell_type": "code",
   "execution_count": 6,
   "metadata": {},
   "outputs": [],
   "source": [
    "dataset = ImageDataset(transform=transform)"
   ]
  },
  {
   "cell_type": "code",
   "execution_count": 7,
   "metadata": {},
   "outputs": [],
   "source": [
    "# Train and test split\n",
    "train_dataset, test_dataset = random_split(dataset, [7000, 2991])"
   ]
  },
  {
   "cell_type": "code",
   "execution_count": 8,
   "metadata": {},
   "outputs": [],
   "source": [
    "train_dataloader = DataLoader(dataset=dataset, batch_size=4, shuffle=True)\n",
    "test_dataloader = DataLoader(dataset=dataset, batch_size=4, shuffle=True)"
   ]
  },
  {
   "cell_type": "code",
   "execution_count": 7,
   "metadata": {},
   "outputs": [],
   "source": [
    "import torch\n",
    "import torch.nn as nn\n",
    "import torch.optim as optim"
   ]
  },
  {
   "cell_type": "code",
   "execution_count": null,
   "metadata": {},
   "outputs": [],
   "source": []
  }
 ],
 "metadata": {
  "interpreter": {
   "hash": "f71267cb382aad57a1826fa66d359ca32b8120787d9413fb646158b5b727d965"
  },
  "kernelspec": {
   "display_name": "Python 3.9.7 ('base')",
   "language": "python",
   "name": "python3"
  },
  "language_info": {
   "codemirror_mode": {
    "name": "ipython",
    "version": 3
   },
   "file_extension": ".py",
   "mimetype": "text/x-python",
   "name": "python",
   "nbconvert_exporter": "python",
   "pygments_lexer": "ipython3",
   "version": "3.9.7"
  },
  "orig_nbformat": 4
 },
 "nbformat": 4,
 "nbformat_minor": 2
}
