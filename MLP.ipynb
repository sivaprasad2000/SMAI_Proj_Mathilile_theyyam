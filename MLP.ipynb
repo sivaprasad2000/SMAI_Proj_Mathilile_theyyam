{
 "cells": [
  {
   "cell_type": "markdown",
   "metadata": {},
   "source": [
    "Importing required libraries"
   ]
  },
  {
   "cell_type": "code",
   "execution_count": 1,
   "metadata": {},
   "outputs": [],
   "source": [
    "import os\n",
    "import matplotlib.pyplot as plt\n",
    "import cv2\n",
    "import random\n",
    "import numpy as np\n",
    "from tqdm import tqdm\n",
    "import copy\n",
    "import time\n",
    "\n",
    "import torch\n",
    "import torchvision\n",
    "from torch.utils.data import Dataset, DataLoader\n",
    "from torch.utils.data import random_split\n",
    "import torchvision.transforms as transforms\n",
    "from torchvision import models\n",
    "from torch import optim, nn"
   ]
  },
  {
   "cell_type": "code",
   "execution_count": 2,
   "metadata": {},
   "outputs": [],
   "source": [
    "device = 'cpu'\n",
    "\n",
    "if torch.cuda.is_available() :\n",
    "    device = 'cuda'"
   ]
  },
  {
   "cell_type": "markdown",
   "metadata": {},
   "source": [
    "Creating dataset"
   ]
  },
  {
   "cell_type": "code",
   "execution_count": 3,
   "metadata": {},
   "outputs": [],
   "source": [
    "class ImageDataset(Dataset) :\n",
    "\n",
    "    def __init__(self, transform) :\n",
    "        self.root_path = 'PACS/kfold/'\n",
    "\n",
    "        # Listing the domains\n",
    "        self.domains = os.listdir(self.root_path)\n",
    "\n",
    "        # Listing the classes \n",
    "        self.classes = os.listdir(self.root_path+'cartoon')\n",
    "\n",
    "        # Transformations\n",
    "        self.transforms = transform\n",
    "\n",
    "        self.images = []\n",
    "        self.domains_y = []\n",
    "        self.classes_y = []\n",
    "\n",
    "        for i_dom, domain in enumerate(self.domains) :\n",
    "            for i_cla, cla in enumerate(self.classes) :\n",
    "                for image in os.listdir(self.root_path+domain+'/'+cla) :\n",
    "                    # Finding image path\n",
    "                    image_path = self.root_path+domain+'/'+cla+'/'+image\n",
    "                    img = cv2.imread(image_path)\n",
    "                    img = cv2.cvtColor(img, cv2.COLOR_BGR2RGB)\n",
    "                    self.images.append(img)\n",
    "                    self.domains_y.append(i_dom)\n",
    "                    self.classes_y.append(i_cla)\n",
    "\n",
    "        self.images = np.array(self.images)\n",
    "        self.domains_y = np.array(self.domains_y)\n",
    "        self.classes_y = np.array(self.classes_y)\n",
    "\n",
    "    def __getitem__(self, index) :\n",
    "\n",
    "        return self.transforms(self.images[index].astype('float')/255), self.domains_y[index], self.classes_y[index]\n",
    "\n",
    "    def __len__(self) :\n",
    "        return len(self.images)"
   ]
  },
  {
   "cell_type": "markdown",
   "metadata": {},
   "source": [
    "Defining transforms"
   ]
  },
  {
   "cell_type": "code",
   "execution_count": 4,
   "metadata": {},
   "outputs": [],
   "source": [
    "transform = transforms.Compose([transforms.ToTensor(),\n",
    "                                transforms.Resize(50),\n",
    "                                transforms.Normalize([0.485, 0.456, 0.406], [0.229, 0.224, 0.225])])"
   ]
  },
  {
   "cell_type": "code",
   "execution_count": 5,
   "metadata": {},
   "outputs": [],
   "source": [
    "dataset = ImageDataset(transform=transform)"
   ]
  },
  {
   "cell_type": "code",
   "execution_count": 6,
   "metadata": {},
   "outputs": [],
   "source": [
    "# Train and test split\n",
    "train_dataset, val_dataset, test_dataset = random_split(dataset, [6000, 1000, 2991])"
   ]
  },
  {
   "cell_type": "code",
   "execution_count": 7,
   "metadata": {},
   "outputs": [],
   "source": [
    "train_dataloader = DataLoader(dataset=train_dataset, batch_size=4, shuffle=True)\n",
    "val_dataloader = DataLoader(dataset=val_dataset, batch_size=4, shuffle=True)\n",
    "test_dataloader = DataLoader(dataset=test_dataset, batch_size=4, shuffle=True)"
   ]
  },
  {
   "cell_type": "code",
   "execution_count": 8,
   "metadata": {},
   "outputs": [],
   "source": [
    "dataloaders = {\n",
    "    'train' : train_dataloader,\n",
    "    'val' : val_dataloader,\n",
    "    'test' : test_dataloader\n",
    "}\n",
    "\n",
    "dataset_sizes = {\n",
    "    'train' : 6000,\n",
    "    'val': 1000,\n",
    "    'test' : 2991\n",
    "}"
   ]
  },
  {
   "cell_type": "code",
   "execution_count": 9,
   "metadata": {},
   "outputs": [],
   "source": [
    "def train_model(model, criterion, optimizer, epochs=1):\n",
    "    since = time.time()\n",
    "    \n",
    "    best_model_wts = copy.deepcopy(model.state_dict())\n",
    "    best_loss = 0.0\n",
    "    best_acc = 0\n",
    "    \n",
    "    for ep in range(epochs):\n",
    "        print(f\"Epoch {ep}/{epochs-1}\")\n",
    "        print(\"-\"*10)\n",
    "        \n",
    "        for phase in ['train', 'val']:\n",
    "            if phase == 'train':\n",
    "                model.train()\n",
    "            else:\n",
    "                model.eval()\n",
    "                \n",
    "            running_loss = 0.0\n",
    "            running_corrects = 0\n",
    "                \n",
    "            for images, domain, labels in dataloaders[phase]:\n",
    "                images = images.to(device)\n",
    "                labels = labels.to(device)\n",
    "                \n",
    "                optimizer.zero_grad()\n",
    "                \n",
    "                with torch.set_grad_enabled(phase == 'train'):\n",
    "                    outputs = model(images.float())\n",
    "                    _, preds = torch.max(outputs, 1)\n",
    "                    loss = criterion(outputs, labels)\n",
    "                \n",
    "                if phase == 'train':\n",
    "                    loss.backward()\n",
    "                    optimizer.step()\n",
    "                    \n",
    "                running_loss += loss.item() * images.size(0)\n",
    "                running_corrects += torch.sum(preds == labels.data)\n",
    "                \n",
    "            epoch_loss = running_loss / dataset_sizes[phase]\n",
    "            epoch_acc = running_corrects.double() / dataset_sizes[phase]\n",
    "            \n",
    "            print(f\"{phase} Loss:{epoch_loss:.4f} Acc:{epoch_acc:.4f}\")\n",
    "            \n",
    "            if phase == 'val':\n",
    "                if ep == 0:\n",
    "                    best_loss = epoch_loss\n",
    "                    best_acc = epoch_acc\n",
    "                    best_model_wts = copy.deepcopy(model.state_dict())\n",
    "                else:\n",
    "                    if epoch_loss < best_loss:\n",
    "                        best_loss = epoch_loss\n",
    "                        best_acc = epoch_acc\n",
    "                        best_model_wts = copy.deepcopy(model.state_dict())\n",
    "            \n",
    "        print()\n",
    "        \n",
    "    time_elapsed = time.time() - since\n",
    "    \n",
    "    print(f'Training complete in {time_elapsed // 60}m {time_elapsed % 60}s')\n",
    "    print(f'Best val loss: {best_loss:.4f}')\n",
    "    print(f'Best acc: {best_acc}')\n",
    "    \n",
    "    model.load_state_dict(best_model_wts)\n",
    "    \n",
    "    return model"
   ]
  },
  {
   "cell_type": "code",
   "execution_count": 10,
   "metadata": {},
   "outputs": [],
   "source": [
    "model = nn.Sequential(\n",
    "    nn.Flatten(),\n",
    "    nn.Linear(3*50*50, 2048),\n",
    "    nn.ReLU(),\n",
    "    nn.Linear(2048, 2048),\n",
    "    nn.ReLU(),\n",
    "    nn.Linear(2048, 1024),\n",
    "    nn.ReLU(),\n",
    "    nn.Linear(1024, 256),\n",
    "    nn.ReLU(),\n",
    "    nn.Linear(256, 7)\n",
    ")\n",
    "\n",
    "# To GPU\n",
    "model = model.to(device)\n",
    "\n",
    "# Defining loss function\n",
    "criterion = nn.CrossEntropyLoss()\n",
    "\n",
    "# Defining optimizer\n",
    "optimizer = optim.SGD(model.parameters(), lr=0.001, momentum=0.9)"
   ]
  },
  {
   "cell_type": "code",
   "execution_count": 11,
   "metadata": {},
   "outputs": [
    {
     "name": "stdout",
     "output_type": "stream",
     "text": [
      "Epoch 0/9\n",
      "----------\n",
      "train Loss:1.7693 Acc:0.2747\n",
      "val Loss:1.6881 Acc:0.3360\n",
      "\n",
      "Epoch 1/9\n",
      "----------\n",
      "train Loss:1.5790 Acc:0.3777\n",
      "val Loss:1.6337 Acc:0.3410\n",
      "\n",
      "Epoch 2/9\n",
      "----------\n",
      "train Loss:1.4758 Acc:0.4158\n",
      "val Loss:1.5441 Acc:0.3840\n",
      "\n",
      "Epoch 3/9\n",
      "----------\n",
      "train Loss:1.3818 Acc:0.4645\n",
      "val Loss:1.5185 Acc:0.4240\n",
      "\n",
      "Epoch 4/9\n",
      "----------\n",
      "train Loss:1.3040 Acc:0.4978\n",
      "val Loss:1.6675 Acc:0.3900\n",
      "\n",
      "Epoch 5/9\n",
      "----------\n",
      "train Loss:1.2182 Acc:0.5247\n",
      "val Loss:1.6428 Acc:0.4170\n",
      "\n",
      "Epoch 6/9\n",
      "----------\n",
      "train Loss:1.1150 Acc:0.5713\n",
      "val Loss:1.7298 Acc:0.4070\n",
      "\n",
      "Epoch 7/9\n",
      "----------\n",
      "train Loss:1.0455 Acc:0.5990\n",
      "val Loss:1.7266 Acc:0.4210\n",
      "\n",
      "Epoch 8/9\n",
      "----------\n",
      "train Loss:0.9503 Acc:0.6327\n",
      "val Loss:1.8248 Acc:0.4020\n",
      "\n",
      "Epoch 9/9\n",
      "----------\n",
      "train Loss:0.9002 Acc:0.6532\n",
      "val Loss:1.9427 Acc:0.4140\n",
      "\n",
      "Training complete in 30.0m 12.148520231246948s\n",
      "Best val loss: 1.5185\n",
      "Best acc: 0.424\n"
     ]
    }
   ],
   "source": [
    "model = train_model(model, criterion, optimizer, 10)"
   ]
  },
  {
   "cell_type": "code",
   "execution_count": null,
   "metadata": {},
   "outputs": [],
   "source": []
  }
 ],
 "metadata": {
  "interpreter": {
   "hash": "f71267cb382aad57a1826fa66d359ca32b8120787d9413fb646158b5b727d965"
  },
  "kernelspec": {
   "display_name": "Python 3.9.7 ('base')",
   "language": "python",
   "name": "python3"
  },
  "language_info": {
   "codemirror_mode": {
    "name": "ipython",
    "version": 3
   },
   "file_extension": ".py",
   "mimetype": "text/x-python",
   "name": "python",
   "nbconvert_exporter": "python",
   "pygments_lexer": "ipython3",
   "version": "3.9.7"
  },
  "orig_nbformat": 4
 },
 "nbformat": 4,
 "nbformat_minor": 2
}
