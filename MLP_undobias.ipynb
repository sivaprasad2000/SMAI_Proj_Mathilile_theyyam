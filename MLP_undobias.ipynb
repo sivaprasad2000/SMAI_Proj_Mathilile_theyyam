{
  "cells": [
    {
      "cell_type": "markdown",
      "metadata": {
        "id": "duGqCd6yD7m7"
      },
      "source": [
        "Importing required libraries"
      ]
    },
    {
      "cell_type": "code",
      "execution_count": 3,
      "metadata": {
        "id": "uSyxznxID7m_"
      },
      "outputs": [],
      "source": [
        "import os\n",
        "import matplotlib.pyplot as plt\n",
        "import cv2\n",
        "import random\n",
        "import numpy as np\n",
        "from tqdm import tqdm\n",
        "import copy\n",
        "import time\n",
        "\n",
        "import torch\n",
        "import torchvision\n",
        "from torch.utils.data import Dataset, DataLoader\n",
        "from torch.utils.data import random_split\n",
        "import torchvision.transforms as transforms\n",
        "from torchvision import models\n",
        "from torch import optim, nn\n",
        "import torch.nn.functional as F"
      ]
    },
    {
      "cell_type": "code",
      "execution_count": 4,
      "metadata": {
        "id": "ZcbQNiPhD7nB"
      },
      "outputs": [],
      "source": [
        "device = 'cpu'\n",
        "\n",
        "if torch.cuda.is_available() :\n",
        "    device = 'cuda'"
      ]
    },
    {
      "cell_type": "code",
      "execution_count": 5,
      "metadata": {
        "colab": {
          "base_uri": "https://localhost:8080/",
          "height": 36
        },
        "id": "vHgshrwJE934",
        "outputId": "e241563c-e6f5-457f-d793-31af77bbecc2"
      },
      "outputs": [
        {
          "data": {
            "application/vnd.google.colaboratory.intrinsic+json": {
              "type": "string"
            },
            "text/plain": [
              "'cuda'"
            ]
          },
          "execution_count": 5,
          "metadata": {},
          "output_type": "execute_result"
        }
      ],
      "source": [
        "device"
      ]
    },
    {
      "cell_type": "markdown",
      "metadata": {
        "id": "PlfAo_p4D7nB"
      },
      "source": [
        "Creating dataset"
      ]
    },
    {
      "cell_type": "code",
      "execution_count": 6,
      "metadata": {
        "id": "w_elDN5RD7nC"
      },
      "outputs": [],
      "source": [
        "class ImageDataset(Dataset) :\n",
        "\n",
        "    def __init__(self, transform) :\n",
        "        self.root_path = 'PACS/kfold/'\n",
        "\n",
        "        # Listing the domains\n",
        "        self.domains = os.listdir(self.root_path)\n",
        "\n",
        "        # Listing the classes \n",
        "        self.classes = os.listdir(self.root_path+'cartoon')\n",
        "\n",
        "        # Transformations\n",
        "        self.transforms = transform\n",
        "\n",
        "        self.images = []\n",
        "        self.domains_y = []\n",
        "        self.classes_y = []\n",
        "\n",
        "        for i_dom, domain in enumerate(self.domains) :\n",
        "            for i_cla, cla in enumerate(self.classes) :\n",
        "                for image in os.listdir(self.root_path+domain+'/'+cla) :\n",
        "                    # Finding image path\n",
        "                    image_path = self.root_path+domain+'/'+cla+'/'+image\n",
        "                    img = cv2.imread(image_path)\n",
        "                    img = cv2.cvtColor(img, cv2.COLOR_BGR2RGB)\n",
        "                    self.images.append(img)\n",
        "\n",
        "                    # One hot encoding domain\n",
        "                    no_domains = 6\n",
        "                    domainVector = np.zeros(no_domains)\n",
        "                    domainVector[-1] = 1\n",
        "                    domainVector[i_dom] = 1\n",
        "                    self.domains_y.append(domainVector)\n",
        "\n",
        "                    # One hot encoding class\n",
        "                    classVector = np.zeros(7)\n",
        "                    classVector[i_cla] = 1\n",
        "                    self.classes_y.append(classVector)\n",
        "\n",
        "        self.images = np.array(self.images)\n",
        "        self.domains_y = np.array(self.domains_y)\n",
        "        self.classes_y = np.array(self.classes_y)\n",
        "\n",
        "    def __getitem__(self, index) :\n",
        "\n",
        "        return self.transforms(self.images[index].astype('float')/255), self.domains_y[index], self.classes_y[index]\n",
        "\n",
        "    def __len__(self) :\n",
        "        return len(self.images)"
      ]
    },
    {
      "cell_type": "markdown",
      "metadata": {
        "id": "uzB843nRD7nD"
      },
      "source": [
        "Defining transforms"
      ]
    },
    {
      "cell_type": "code",
      "execution_count": 7,
      "metadata": {
        "id": "zO0oBSJ0D7nD"
      },
      "outputs": [],
      "source": [
        "transform = transforms.Compose([transforms.ToTensor(),\n",
        "                                transforms.Resize(50),\n",
        "                                transforms.Normalize([0.485, 0.456, 0.406], [0.229, 0.224, 0.225])])"
      ]
    },
    {
      "cell_type": "code",
      "execution_count": 8,
      "metadata": {
        "id": "9mmi96f8D7nE"
      },
      "outputs": [],
      "source": [
        "dataset = ImageDataset(transform=transform)"
      ]
    },
    {
      "cell_type": "code",
      "execution_count": 9,
      "metadata": {
        "id": "IUc7eXXED7nF"
      },
      "outputs": [],
      "source": [
        "# Train and test split\n",
        "train_dataset, val_dataset, test_dataset = random_split(dataset, [6000, 1000, 2991])"
      ]
    },
    {
      "cell_type": "code",
      "execution_count": 10,
      "metadata": {
        "id": "eiNXcKHRD7nG"
      },
      "outputs": [],
      "source": [
        "train_dataloader = DataLoader(dataset=train_dataset, batch_size=1, shuffle=True)\n",
        "val_dataloader = DataLoader(dataset=val_dataset, batch_size=1, shuffle=True)\n",
        "test_dataloader = DataLoader(dataset=test_dataset, batch_size=1, shuffle=True)"
      ]
    },
    {
      "cell_type": "code",
      "execution_count": 11,
      "metadata": {
        "id": "Dz1zFf5uD7nH"
      },
      "outputs": [],
      "source": [
        "dataloaders = {\n",
        "    'train' : train_dataloader,\n",
        "    'val' : val_dataloader,\n",
        "    'test' : test_dataloader\n",
        "}\n",
        "\n",
        "dataset_sizes = {\n",
        "    'train' : 6000,\n",
        "    'val': 1000,\n",
        "    'test' : 2991\n",
        "}"
      ]
    },
    {
      "cell_type": "code",
      "execution_count": 12,
      "metadata": {
        "id": "8003Ji0PD7nH"
      },
      "outputs": [],
      "source": [
        "def train_model(model, criterion, optimizer, epochs=1):\n",
        "    since = time.time()\n",
        "    \n",
        "    best_model_wts = copy.deepcopy(model.state_dict())\n",
        "    best_loss = 0.0\n",
        "    best_acc = 0\n",
        "    \n",
        "    for ep in range(epochs):\n",
        "        print(f\"Epoch {ep}/{epochs-1}\")\n",
        "        print(\"-\"*10)\n",
        "        \n",
        "        for phase in ['train', 'val']:\n",
        "            if phase == 'train':\n",
        "                model.train()\n",
        "            else:\n",
        "                model.eval()\n",
        "                \n",
        "            running_loss = 0.0\n",
        "            running_corrects = 0\n",
        "                \n",
        "            for images, domains, labels in tqdm(dataloaders[phase]):\n",
        "                images = images.to(device)\n",
        "                labels = labels.to(device)\n",
        "                domains = domains.to(device)\n",
        "                _, labels_list = torch.max(labels, 1)\n",
        "                labels_list = labels_list.to(device)\n",
        "                \n",
        "                optimizer.zero_grad()\n",
        "                \n",
        "                with torch.set_grad_enabled(phase == 'train'):\n",
        "                    outputs = model(images.float(), domains.float())\n",
        "                    _, preds = torch.max(outputs, 1)\n",
        "                    loss = criterion(outputs, labels)\n",
        "                \n",
        "                if phase == 'train':\n",
        "                    loss.backward()\n",
        "                    optimizer.step()\n",
        "                    \n",
        "                running_loss += loss.item() * images.size(0)\n",
        "                running_corrects += torch.sum(preds == labels_list)\n",
        "                \n",
        "            epoch_loss = running_loss / dataset_sizes[phase]\n",
        "            epoch_acc = running_corrects.double() / dataset_sizes[phase]\n",
        "            \n",
        "            print(f\"{phase} Loss:{epoch_loss:.4f} Acc:{epoch_acc:.4f}\")\n",
        "            \n",
        "            if phase == 'val':\n",
        "                if ep == 0:\n",
        "                    best_loss = epoch_loss\n",
        "                    best_acc = epoch_acc\n",
        "                    best_model_wts = copy.deepcopy(model.state_dict())\n",
        "                else:\n",
        "                    if epoch_loss < best_loss:\n",
        "                        best_loss = epoch_loss\n",
        "                        best_acc = epoch_acc\n",
        "                        best_model_wts = copy.deepcopy(model.state_dict())\n",
        "            \n",
        "        print()\n",
        "        \n",
        "    time_elapsed = time.time() - since\n",
        "    \n",
        "    print(f'Training complete in {time_elapsed // 60}m {time_elapsed % 60}s')\n",
        "    print(f'Best val loss: {best_loss:.4f}')\n",
        "    print(f'Best acc: {best_acc}')\n",
        "    \n",
        "    model.load_state_dict(best_model_wts)\n",
        "    \n",
        "    return model"
      ]
    },
    {
      "cell_type": "code",
      "execution_count": 13,
      "metadata": {
        "id": "tuZhihvfD7nI"
      },
      "outputs": [],
      "source": [
        "class customLinear(nn.Module) :\n",
        "    def __init__(self, in_feat, out_feat) :\n",
        "        super().__init__()\n",
        "\n",
        "        linMod = nn.Linear(in_feat, out_feat)\n",
        "\n",
        "        self.weight = nn.Parameter(linMod.weight.detach())\n",
        "        self.bias = nn.Parameter(linMod.bias)\n",
        "\n",
        "    def forward(self, X) :\n",
        "        output = (X@self.weight.T)+self.bias\n",
        "        return output"
      ]
    },
    {
      "cell_type": "code",
      "execution_count": 14,
      "metadata": {
        "id": "TLpCqJM3D7nI"
      },
      "outputs": [],
      "source": [
        "def getWeightsAndBiases(in_size, out_size, no_domains) :\n",
        "\n",
        "    weight_mat = torch.zeros(out_size, in_size, no_domains+1)\n",
        "    bias_mat = torch.zeros(out_size, no_domains+1)\n",
        "\n",
        "    for i in range(no_domains+1) :\n",
        "        linMod = nn.Linear(in_size, out_size)\n",
        "\n",
        "        weight = linMod.weight.detach()\n",
        "        bias = linMod.bias.detach()\n",
        "\n",
        "        if not(i == no_domains) :\n",
        "          weight_mat[:, :, i] = weight/no_domains\n",
        "          bias_mat[:, i] = bias/no_domains\n",
        "\n",
        "    return weight_mat, bias_mat"
      ]
    },
    {
      "cell_type": "code",
      "execution_count": 15,
      "metadata": {
        "id": "DtIbJ8HOD7nI"
      },
      "outputs": [],
      "source": [
        "class Model(nn.Module):\n",
        "    def __init__(self):\n",
        "        \n",
        "        super().__init__()\n",
        "\n",
        "        no_domains = 5\n",
        "        \n",
        "        # Inititializing weights and biases\n",
        "        weights1, biases1 = getWeightsAndBiases(3*50*50, 2048, no_domains)\n",
        "        weights2, biases2 = getWeightsAndBiases(2048, 2048, no_domains)\n",
        "        weights3, biases3 = getWeightsAndBiases(2048, 1024, no_domains)\n",
        "        weights4, biases4 = getWeightsAndBiases(1024, 256, no_domains)\n",
        "        weights5, biases5 = getWeightsAndBiases(256, 7, no_domains)\n",
        "\n",
        "        # make weights torch parameters\n",
        "        self.weights1 = nn.Parameter(weights1)\n",
        "        self.weights2 = nn.Parameter(weights2)\n",
        "        self.weights3 = nn.Parameter(weights3)\n",
        "        self.weights4 = nn.Parameter(weights4)\n",
        "        self.weights5 = nn.Parameter(weights5)    \n",
        "\n",
        "        # make biases torch parameters\n",
        "        self.biases1 = nn.Parameter(biases1)\n",
        "        self.biases2 = nn.Parameter(biases2)\n",
        "        self.biases3 = nn.Parameter(biases3)\n",
        "        self.biases4 = nn.Parameter(biases4)\n",
        "        self.biases5 = nn.Parameter(biases5)    \n",
        "        \n",
        "    def forward(self, X, X_dom):\n",
        "        # Flattening the given image\n",
        "        X_flat = X.reshape(-1, 3*50*50)\n",
        "\n",
        "        weights1 = torch.inner(self.weights1, X_dom.reshape(-1))\n",
        "        weights2 = torch.inner(self.weights2, X_dom.reshape(-1))\n",
        "        weights3 = torch.inner(self.weights3, X_dom.reshape(-1))\n",
        "        weights4 = torch.inner(self.weights4, X_dom.reshape(-1))\n",
        "        weights5 = torch.inner(self.weights5, X_dom.reshape(-1))\n",
        "\n",
        "        biases1 = torch.inner(self.biases1, X_dom.reshape(-1))\n",
        "        biases2 = torch.inner(self.biases2, X_dom.reshape(-1))\n",
        "        biases3 = torch.inner(self.biases3, X_dom.reshape(-1))\n",
        "        biases4 = torch.inner(self.biases4, X_dom.reshape(-1))\n",
        "        biases5 = torch.inner(self.biases5, X_dom.reshape(-1))\n",
        "\n",
        "        out1 = ((X_flat@weights1.T)+biases1)\n",
        "        out1 = F.relu(out1)\n",
        "        out2 = ((out1@weights2.T)+biases2)\n",
        "        out2 = F.relu(out2)\n",
        "        out3 = ((out2@weights3.T)+biases3)\n",
        "        out3 = F.relu(out3)\n",
        "        out4 = ((out3@weights4.T)+biases4)\n",
        "        out4 = F.relu(out4)\n",
        "        out5 = ((out4@weights5.T)+biases5)\n",
        "        out6 = F.softmax(out5, dim=1)\n",
        "\n",
        "        return out6\n",
        "\n",
        "# Initializing model\n",
        "model = Model()\n",
        "\n",
        "# To GPU\n",
        "model = model.to(device)\n",
        "\n",
        "# Defining loss function\n",
        "criterion = nn.CrossEntropyLoss()\n",
        "\n",
        "# Defining optimizer\n",
        "optimizer = optim.SGD(model.parameters(), lr=0.001, momentum=0.9)"
      ]
    },
    {
      "cell_type": "code",
      "execution_count": 16,
      "metadata": {
        "colab": {
          "base_uri": "https://localhost:8080/"
        },
        "id": "_imbYpW2D7nJ",
        "outputId": "ea76d0dc-d2f3-477b-8cc8-a7ee9b9c61f2"
      },
      "outputs": [
        {
          "name": "stdout",
          "output_type": "stream",
          "text": [
            "Epoch 0/9\n",
            "----------\n"
          ]
        },
        {
          "name": "stderr",
          "output_type": "stream",
          "text": [
            "100%|██████████| 6000/6000 [11:56<00:00,  8.38it/s]\n"
          ]
        },
        {
          "name": "stdout",
          "output_type": "stream",
          "text": [
            "train Loss:1.9399 Acc:0.1760\n"
          ]
        },
        {
          "name": "stderr",
          "output_type": "stream",
          "text": [
            "100%|██████████| 1000/1000 [00:54<00:00, 18.46it/s]\n"
          ]
        },
        {
          "name": "stdout",
          "output_type": "stream",
          "text": [
            "val Loss:1.9354 Acc:0.1930\n",
            "\n",
            "Epoch 1/9\n",
            "----------\n"
          ]
        },
        {
          "name": "stderr",
          "output_type": "stream",
          "text": [
            "100%|██████████| 6000/6000 [11:58<00:00,  8.35it/s]\n"
          ]
        },
        {
          "name": "stdout",
          "output_type": "stream",
          "text": [
            "train Loss:1.9317 Acc:0.1933\n"
          ]
        },
        {
          "name": "stderr",
          "output_type": "stream",
          "text": [
            "100%|██████████| 1000/1000 [00:53<00:00, 18.71it/s]\n"
          ]
        },
        {
          "name": "stdout",
          "output_type": "stream",
          "text": [
            "val Loss:1.9294 Acc:0.1930\n",
            "\n",
            "Epoch 2/9\n",
            "----------\n"
          ]
        },
        {
          "name": "stderr",
          "output_type": "stream",
          "text": [
            "100%|██████████| 6000/6000 [11:59<00:00,  8.34it/s]\n"
          ]
        },
        {
          "name": "stdout",
          "output_type": "stream",
          "text": [
            "train Loss:1.9262 Acc:0.2032\n"
          ]
        },
        {
          "name": "stderr",
          "output_type": "stream",
          "text": [
            "100%|██████████| 1000/1000 [00:54<00:00, 18.51it/s]\n"
          ]
        },
        {
          "name": "stdout",
          "output_type": "stream",
          "text": [
            "val Loss:1.9244 Acc:0.1980\n",
            "\n",
            "Epoch 3/9\n",
            "----------\n"
          ]
        },
        {
          "name": "stderr",
          "output_type": "stream",
          "text": [
            "100%|██████████| 6000/6000 [11:58<00:00,  8.35it/s]\n"
          ]
        },
        {
          "name": "stdout",
          "output_type": "stream",
          "text": [
            "train Loss:1.9214 Acc:0.2073\n"
          ]
        },
        {
          "name": "stderr",
          "output_type": "stream",
          "text": [
            "100%|██████████| 1000/1000 [00:53<00:00, 18.60it/s]\n"
          ]
        },
        {
          "name": "stdout",
          "output_type": "stream",
          "text": [
            "val Loss:1.9198 Acc:0.1980\n",
            "\n",
            "Epoch 4/9\n",
            "----------\n"
          ]
        },
        {
          "name": "stderr",
          "output_type": "stream",
          "text": [
            "100%|██████████| 6000/6000 [11:54<00:00,  8.39it/s]\n"
          ]
        },
        {
          "name": "stdout",
          "output_type": "stream",
          "text": [
            "train Loss:1.9156 Acc:0.2117\n"
          ]
        },
        {
          "name": "stderr",
          "output_type": "stream",
          "text": [
            "100%|██████████| 1000/1000 [00:53<00:00, 18.81it/s]\n"
          ]
        },
        {
          "name": "stdout",
          "output_type": "stream",
          "text": [
            "val Loss:1.9124 Acc:0.2070\n",
            "\n",
            "Epoch 5/9\n",
            "----------\n"
          ]
        },
        {
          "name": "stderr",
          "output_type": "stream",
          "text": [
            "100%|██████████| 6000/6000 [11:54<00:00,  8.40it/s]\n"
          ]
        },
        {
          "name": "stdout",
          "output_type": "stream",
          "text": [
            "train Loss:1.9131 Acc:0.2052\n"
          ]
        },
        {
          "name": "stderr",
          "output_type": "stream",
          "text": [
            "100%|██████████| 1000/1000 [00:53<00:00, 18.81it/s]\n"
          ]
        },
        {
          "name": "stdout",
          "output_type": "stream",
          "text": [
            "val Loss:1.9099 Acc:0.2250\n",
            "\n",
            "Epoch 6/9\n",
            "----------\n"
          ]
        },
        {
          "name": "stderr",
          "output_type": "stream",
          "text": [
            "100%|██████████| 6000/6000 [11:54<00:00,  8.40it/s]\n"
          ]
        },
        {
          "name": "stdout",
          "output_type": "stream",
          "text": [
            "train Loss:1.9079 Acc:0.2228\n"
          ]
        },
        {
          "name": "stderr",
          "output_type": "stream",
          "text": [
            "100%|██████████| 1000/1000 [00:53<00:00, 18.66it/s]\n"
          ]
        },
        {
          "name": "stdout",
          "output_type": "stream",
          "text": [
            "val Loss:1.8991 Acc:0.2380\n",
            "\n",
            "Epoch 7/9\n",
            "----------\n"
          ]
        },
        {
          "name": "stderr",
          "output_type": "stream",
          "text": [
            "100%|██████████| 6000/6000 [11:53<00:00,  8.41it/s]\n"
          ]
        },
        {
          "name": "stdout",
          "output_type": "stream",
          "text": [
            "train Loss:1.8911 Acc:0.2395\n"
          ]
        },
        {
          "name": "stderr",
          "output_type": "stream",
          "text": [
            "100%|██████████| 1000/1000 [00:53<00:00, 18.80it/s]\n"
          ]
        },
        {
          "name": "stdout",
          "output_type": "stream",
          "text": [
            "val Loss:1.8668 Acc:0.2600\n",
            "\n",
            "Epoch 8/9\n",
            "----------\n"
          ]
        },
        {
          "name": "stderr",
          "output_type": "stream",
          "text": [
            "100%|██████████| 6000/6000 [11:52<00:00,  8.42it/s]\n"
          ]
        },
        {
          "name": "stdout",
          "output_type": "stream",
          "text": [
            "train Loss:1.8640 Acc:0.2623\n"
          ]
        },
        {
          "name": "stderr",
          "output_type": "stream",
          "text": [
            "100%|██████████| 1000/1000 [00:52<00:00, 18.90it/s]\n"
          ]
        },
        {
          "name": "stdout",
          "output_type": "stream",
          "text": [
            "val Loss:1.8600 Acc:0.2600\n",
            "\n",
            "Epoch 9/9\n",
            "----------\n"
          ]
        },
        {
          "name": "stderr",
          "output_type": "stream",
          "text": [
            "100%|██████████| 6000/6000 [11:52<00:00,  8.42it/s]\n"
          ]
        },
        {
          "name": "stdout",
          "output_type": "stream",
          "text": [
            "train Loss:1.8465 Acc:0.2823\n"
          ]
        },
        {
          "name": "stderr",
          "output_type": "stream",
          "text": [
            "100%|██████████| 1000/1000 [00:52<00:00, 18.93it/s]"
          ]
        },
        {
          "name": "stdout",
          "output_type": "stream",
          "text": [
            "val Loss:1.8592 Acc:0.2700\n",
            "\n",
            "Training complete in 128.0m 10.487203121185303s\n",
            "Best val loss: 1.8592\n",
            "Best acc: 0.27\n"
          ]
        },
        {
          "name": "stderr",
          "output_type": "stream",
          "text": [
            "\n"
          ]
        }
      ],
      "source": [
        "model = train_model(model, criterion, optimizer, 10)"
      ]
    },
    {
      "cell_type": "code",
      "execution_count": null,
      "metadata": {
        "id": "5-O7pj2ND7nK"
      },
      "outputs": [],
      "source": []
    }
  ],
  "metadata": {
    "accelerator": "GPU",
    "colab": {
      "collapsed_sections": [],
      "name": "MLP_undobias.ipynb",
      "provenance": []
    },
    "interpreter": {
      "hash": "f71267cb382aad57a1826fa66d359ca32b8120787d9413fb646158b5b727d965"
    },
    "kernelspec": {
      "display_name": "Python 3.9.7 ('base')",
      "language": "python",
      "name": "python3"
    },
    "language_info": {
      "codemirror_mode": {
        "name": "ipython",
        "version": 3
      },
      "file_extension": ".py",
      "mimetype": "text/x-python",
      "name": "python",
      "nbconvert_exporter": "python",
      "pygments_lexer": "ipython3",
      "version": "3.9.7"
    },
    "orig_nbformat": 4
  },
  "nbformat": 4,
  "nbformat_minor": 0
}
