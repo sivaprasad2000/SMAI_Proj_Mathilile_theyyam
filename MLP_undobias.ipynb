{
 "cells": [
  {
   "cell_type": "markdown",
   "metadata": {},
   "source": [
    "Importing required libraries"
   ]
  },
  {
   "cell_type": "code",
   "execution_count": 1,
   "metadata": {},
   "outputs": [],
   "source": [
    "import os\n",
    "import matplotlib.pyplot as plt\n",
    "import cv2\n",
    "import random\n",
    "import numpy as np\n",
    "from tqdm import tqdm\n",
    "import copy\n",
    "import time\n",
    "\n",
    "import torch\n",
    "import torchvision\n",
    "from torch.utils.data import Dataset, DataLoader\n",
    "from torch.utils.data import random_split\n",
    "import torchvision.transforms as transforms\n",
    "from torchvision import models\n",
    "from torch import optim, nn\n",
    "import torch.nn.functional as F"
   ]
  },
  {
   "cell_type": "code",
   "execution_count": 2,
   "metadata": {},
   "outputs": [],
   "source": [
    "device = 'cpu'\n",
    "\n",
    "if torch.cuda.is_available() :\n",
    "    device = 'cuda'"
   ]
  },
  {
   "cell_type": "markdown",
   "metadata": {},
   "source": [
    "Creating dataset"
   ]
  },
  {
   "cell_type": "code",
   "execution_count": 3,
   "metadata": {},
   "outputs": [],
   "source": [
    "class ImageDataset(Dataset) :\n",
    "\n",
    "    def __init__(self, transform) :\n",
    "        self.root_path = 'PACS/kfold/'\n",
    "\n",
    "        # Listing the domains\n",
    "        self.domains = os.listdir(self.root_path)\n",
    "\n",
    "        # Listing the classes \n",
    "        self.classes = os.listdir(self.root_path+'cartoon')\n",
    "\n",
    "        # Transformations\n",
    "        self.transforms = transform\n",
    "\n",
    "        self.images = []\n",
    "        self.domains_y = []\n",
    "        self.classes_y = []\n",
    "\n",
    "        for i_dom, domain in enumerate(self.domains) :\n",
    "            for i_cla, cla in enumerate(self.classes) :\n",
    "                for image in os.listdir(self.root_path+domain+'/'+cla) :\n",
    "                    # Finding image path\n",
    "                    image_path = self.root_path+domain+'/'+cla+'/'+image\n",
    "                    img = cv2.imread(image_path)\n",
    "                    img = cv2.cvtColor(img, cv2.COLOR_BGR2RGB)\n",
    "                    self.images.append(img)\n",
    "\n",
    "                    # One hot encoding domain\n",
    "                    no_domains = 6\n",
    "                    domainVector = np.zeros(no_domains)\n",
    "                    domainVector[-1] = 1\n",
    "                    domainVector[i_dom] = 1\n",
    "                    self.domains_y.append(domainVector)\n",
    "\n",
    "                    # One hot encoding class\n",
    "                    classVector = np.zeros(7)\n",
    "                    classVector[i_cla] = 1\n",
    "                    self.classes_y.append(classVector)\n",
    "\n",
    "        self.images = np.array(self.images)\n",
    "        self.domains_y = np.array(self.domains_y)\n",
    "        self.classes_y = np.array(self.classes_y)\n",
    "\n",
    "    def __getitem__(self, index) :\n",
    "\n",
    "        return self.transforms(self.images[index].astype('float')/255), self.domains_y[index], self.classes_y[index]\n",
    "\n",
    "    def __len__(self) :\n",
    "        return len(self.images)"
   ]
  },
  {
   "cell_type": "markdown",
   "metadata": {},
   "source": [
    "Defining transforms"
   ]
  },
  {
   "cell_type": "code",
   "execution_count": 4,
   "metadata": {},
   "outputs": [],
   "source": [
    "transform = transforms.Compose([transforms.ToTensor(),\n",
    "                                transforms.Resize(50),\n",
    "                                transforms.Normalize([0.485, 0.456, 0.406], [0.229, 0.224, 0.225])])"
   ]
  },
  {
   "cell_type": "code",
   "execution_count": 5,
   "metadata": {},
   "outputs": [],
   "source": [
    "dataset = ImageDataset(transform=transform)"
   ]
  },
  {
   "cell_type": "code",
   "execution_count": 6,
   "metadata": {},
   "outputs": [],
   "source": [
    "# Train and test split\n",
    "train_dataset, val_dataset, test_dataset = random_split(dataset, [6000, 1000, 2991])"
   ]
  },
  {
   "cell_type": "code",
   "execution_count": 7,
   "metadata": {},
   "outputs": [],
   "source": [
    "train_dataloader = DataLoader(dataset=train_dataset, batch_size=1, shuffle=True)\n",
    "val_dataloader = DataLoader(dataset=val_dataset, batch_size=1, shuffle=True)\n",
    "test_dataloader = DataLoader(dataset=test_dataset, batch_size=1, shuffle=True)"
   ]
  },
  {
   "cell_type": "code",
   "execution_count": 8,
   "metadata": {},
   "outputs": [],
   "source": [
    "dataloaders = {\n",
    "    'train' : train_dataloader,\n",
    "    'val' : val_dataloader,\n",
    "    'test' : test_dataloader\n",
    "}\n",
    "\n",
    "dataset_sizes = {\n",
    "    'train' : 6000,\n",
    "    'val': 1000,\n",
    "    'test' : 2991\n",
    "}"
   ]
  },
  {
   "cell_type": "code",
   "execution_count": 9,
   "metadata": {},
   "outputs": [],
   "source": [
    "def train_model(model, criterion, optimizer, epochs=1):\n",
    "    since = time.time()\n",
    "    \n",
    "    best_model_wts = copy.deepcopy(model.state_dict())\n",
    "    best_loss = 0.0\n",
    "    best_acc = 0\n",
    "    \n",
    "    for ep in range(epochs):\n",
    "        print(f\"Epoch {ep}/{epochs-1}\")\n",
    "        print(\"-\"*10)\n",
    "        \n",
    "        for phase in ['train', 'val']:\n",
    "            if phase == 'train':\n",
    "                model.train()\n",
    "            else:\n",
    "                model.eval()\n",
    "                \n",
    "            running_loss = 0.0\n",
    "            running_corrects = 0\n",
    "                \n",
    "            for images, domains, labels in tqdm(dataloaders[phase]):\n",
    "                images = images.to(device)\n",
    "                labels = labels.to(device)\n",
    "                domains = domains.to(device)\n",
    "                _, labels_list = torch.max(labels, 1)\n",
    "                labels_list = labels_list.to(device)\n",
    "                \n",
    "                optimizer.zero_grad()\n",
    "                \n",
    "                with torch.set_grad_enabled(phase == 'train'):\n",
    "                    outputs = model(images.float(), domains.float())\n",
    "                    _, preds = torch.max(outputs, 1)\n",
    "                    loss = criterion(outputs, labels)\n",
    "                \n",
    "                if phase == 'train':\n",
    "                    loss.backward()\n",
    "                    optimizer.step()\n",
    "                    \n",
    "                running_loss += loss.item() * images.size(0)\n",
    "                running_corrects += torch.sum(preds == labels_list)\n",
    "                \n",
    "            epoch_loss = running_loss / dataset_sizes[phase]\n",
    "            epoch_acc = running_corrects.double() / dataset_sizes[phase]\n",
    "            \n",
    "            print(f\"{phase} Loss:{epoch_loss:.4f} Acc:{epoch_acc:.4f}\")\n",
    "            \n",
    "            if phase == 'val':\n",
    "                if ep == 0:\n",
    "                    best_loss = epoch_loss\n",
    "                    best_acc = epoch_acc\n",
    "                    best_model_wts = copy.deepcopy(model.state_dict())\n",
    "                else:\n",
    "                    if epoch_loss < best_loss:\n",
    "                        best_loss = epoch_loss\n",
    "                        best_acc = epoch_acc\n",
    "                        best_model_wts = copy.deepcopy(model.state_dict())\n",
    "            \n",
    "        print()\n",
    "        \n",
    "    time_elapsed = time.time() - since\n",
    "    \n",
    "    print(f'Training complete in {time_elapsed // 60}m {time_elapsed % 60}s')\n",
    "    print(f'Best val loss: {best_loss:.4f}')\n",
    "    print(f'Best acc: {best_acc}')\n",
    "    \n",
    "    model.load_state_dict(best_model_wts)\n",
    "    \n",
    "    return model"
   ]
  },
  {
   "cell_type": "code",
   "execution_count": 10,
   "metadata": {},
   "outputs": [],
   "source": [
    "class customLinear(nn.Module) :\n",
    "    def __init__(self, in_feat, out_feat) :\n",
    "        super().__init__()\n",
    "\n",
    "        linMod = nn.Linear(in_feat, out_feat)\n",
    "\n",
    "        self.weight = nn.Parameter(linMod.weight.detach())\n",
    "        self.bias = nn.Parameter(linMod.bias)\n",
    "\n",
    "    def forward(self, X) :\n",
    "        output = (X@self.weight.T)+self.bias\n",
    "        return output"
   ]
  },
  {
   "cell_type": "code",
   "execution_count": 11,
   "metadata": {},
   "outputs": [],
   "source": [
    "def getWeightsAndBiases(in_size, out_size, no_domains) :\n",
    "\n",
    "    weight_mat = torch.zeros(out_size, in_size, no_domains+1)\n",
    "    bias_mat = torch.zeros(out_size, no_domains+1)\n",
    "\n",
    "    for i in range(no_domains+1) :\n",
    "        linMod = nn.Linear(in_size, out_size)\n",
    "\n",
    "        weight = linMod.weight.detach()\n",
    "        bias = linMod.bias.detach()\n",
    "\n",
    "        weight_mat[:, :, i] = weight\n",
    "        bias_mat[:, i] = bias\n",
    "\n",
    "    return weight_mat, bias_mat"
   ]
  },
  {
   "cell_type": "code",
   "execution_count": 12,
   "metadata": {},
   "outputs": [],
   "source": [
    "class Model(nn.Module):\n",
    "    def __init__(self):\n",
    "        \n",
    "        super().__init__()\n",
    "\n",
    "        no_domains = 5\n",
    "        \n",
    "        # Inititializing weights and biases\n",
    "        weights1, biases1 = getWeightsAndBiases(3*50*50, 2048, no_domains)\n",
    "        weights2, biases2 = getWeightsAndBiases(2048, 2048, no_domains)\n",
    "        weights3, biases3 = getWeightsAndBiases(2048, 1024, no_domains)\n",
    "        weights4, biases4 = getWeightsAndBiases(1024, 256, no_domains)\n",
    "        weights5, biases5 = getWeightsAndBiases(256, 7, no_domains)\n",
    "\n",
    "        # make weights torch parameters\n",
    "        self.weights1 = nn.Parameter(weights1)\n",
    "        self.weights2 = nn.Parameter(weights2)\n",
    "        self.weights3 = nn.Parameter(weights3)\n",
    "        self.weights4 = nn.Parameter(weights4)\n",
    "        self.weights5 = nn.Parameter(weights5)    \n",
    "\n",
    "        # make biases torch parameters\n",
    "        self.biases1 = nn.Parameter(biases1)\n",
    "        self.biases2 = nn.Parameter(biases2)\n",
    "        self.biases3 = nn.Parameter(biases3)\n",
    "        self.biases4 = nn.Parameter(biases4)\n",
    "        self.biases5 = nn.Parameter(biases5)    \n",
    "        \n",
    "    def forward(self, X, X_dom):\n",
    "        # Flattening the given image\n",
    "        X_flat = X.reshape(-1, 3*50*50)\n",
    "\n",
    "        weights1 = torch.inner(self.weights1, X_dom.reshape(-1))\n",
    "        weights2 = torch.inner(self.weights2, X_dom.reshape(-1))\n",
    "        weights3 = torch.inner(self.weights3, X_dom.reshape(-1))\n",
    "        weights4 = torch.inner(self.weights4, X_dom.reshape(-1))\n",
    "        weights5 = torch.inner(self.weights5, X_dom.reshape(-1))\n",
    "\n",
    "        biases1 = torch.inner(self.biases1, X_dom.reshape(-1))\n",
    "        biases2 = torch.inner(self.biases2, X_dom.reshape(-1))\n",
    "        biases3 = torch.inner(self.biases3, X_dom.reshape(-1))\n",
    "        biases4 = torch.inner(self.biases4, X_dom.reshape(-1))\n",
    "        biases5 = torch.inner(self.biases5, X_dom.reshape(-1))\n",
    "\n",
    "        out1 = ((X_flat@weights1.T)+biases1)\n",
    "        out1 = F.relu(out1)\n",
    "        out2 = ((out1@weights2.T)+biases2)\n",
    "        out2 = F.relu(out2)\n",
    "        out3 = ((out2@weights3.T)+biases3)\n",
    "        out3 = F.relu(out3)\n",
    "        out4 = ((out3@weights4.T)+biases4)\n",
    "        out4 = F.relu(out4)\n",
    "        out5 = ((out4@weights5.T)+biases5)\n",
    "        out6 = F.softmax(out5, dim=1)\n",
    "\n",
    "        return out6\n",
    "\n",
    "# Initializing model\n",
    "model = Model()\n",
    "\n",
    "# To GPU\n",
    "model = model.to(device)\n",
    "\n",
    "# Defining loss function\n",
    "criterion = nn.CrossEntropyLoss()\n",
    "\n",
    "# Defining optimizer\n",
    "optimizer = optim.SGD(model.parameters(), lr=0.001, momentum=0.9)"
   ]
  },
  {
   "cell_type": "code",
   "execution_count": 13,
   "metadata": {},
   "outputs": [
    {
     "name": "stdout",
     "output_type": "stream",
     "text": [
      "Epoch 0/0\n",
      "----------\n"
     ]
    },
    {
     "name": "stderr",
     "output_type": "stream",
     "text": [
      "  1%|          | 45/6000 [00:38<1:24:37,  1.17it/s]\n"
     ]
    },
    {
     "ename": "KeyboardInterrupt",
     "evalue": "",
     "output_type": "error",
     "traceback": [
      "\u001b[0;31m---------------------------------------------------------------------------\u001b[0m",
      "\u001b[0;31mKeyboardInterrupt\u001b[0m                         Traceback (most recent call last)",
      "\u001b[0;32m/tmp/ipykernel_11845/3586918922.py\u001b[0m in \u001b[0;36m<module>\u001b[0;34m\u001b[0m\n\u001b[0;32m----> 1\u001b[0;31m \u001b[0mmodel\u001b[0m \u001b[0;34m=\u001b[0m \u001b[0mtrain_model\u001b[0m\u001b[0;34m(\u001b[0m\u001b[0mmodel\u001b[0m\u001b[0;34m,\u001b[0m \u001b[0mcriterion\u001b[0m\u001b[0;34m,\u001b[0m \u001b[0moptimizer\u001b[0m\u001b[0;34m,\u001b[0m \u001b[0;36m1\u001b[0m\u001b[0;34m)\u001b[0m\u001b[0;34m\u001b[0m\u001b[0;34m\u001b[0m\u001b[0m\n\u001b[0m",
      "\u001b[0;32m/tmp/ipykernel_11845/799438875.py\u001b[0m in \u001b[0;36mtrain_model\u001b[0;34m(model, criterion, optimizer, epochs)\u001b[0m\n\u001b[1;32m     34\u001b[0m                 \u001b[0;32mif\u001b[0m \u001b[0mphase\u001b[0m \u001b[0;34m==\u001b[0m \u001b[0;34m'train'\u001b[0m\u001b[0;34m:\u001b[0m\u001b[0;34m\u001b[0m\u001b[0;34m\u001b[0m\u001b[0m\n\u001b[1;32m     35\u001b[0m                     \u001b[0mloss\u001b[0m\u001b[0;34m.\u001b[0m\u001b[0mbackward\u001b[0m\u001b[0;34m(\u001b[0m\u001b[0;34m)\u001b[0m\u001b[0;34m\u001b[0m\u001b[0;34m\u001b[0m\u001b[0m\n\u001b[0;32m---> 36\u001b[0;31m                     \u001b[0moptimizer\u001b[0m\u001b[0;34m.\u001b[0m\u001b[0mstep\u001b[0m\u001b[0;34m(\u001b[0m\u001b[0;34m)\u001b[0m\u001b[0;34m\u001b[0m\u001b[0;34m\u001b[0m\u001b[0m\n\u001b[0m\u001b[1;32m     37\u001b[0m \u001b[0;34m\u001b[0m\u001b[0m\n\u001b[1;32m     38\u001b[0m                 \u001b[0mrunning_loss\u001b[0m \u001b[0;34m+=\u001b[0m \u001b[0mloss\u001b[0m\u001b[0;34m.\u001b[0m\u001b[0mitem\u001b[0m\u001b[0;34m(\u001b[0m\u001b[0;34m)\u001b[0m \u001b[0;34m*\u001b[0m \u001b[0mimages\u001b[0m\u001b[0;34m.\u001b[0m\u001b[0msize\u001b[0m\u001b[0;34m(\u001b[0m\u001b[0;36m0\u001b[0m\u001b[0;34m)\u001b[0m\u001b[0;34m\u001b[0m\u001b[0;34m\u001b[0m\u001b[0m\n",
      "\u001b[0;32m~/anaconda3/lib/python3.9/site-packages/torch/optim/optimizer.py\u001b[0m in \u001b[0;36mwrapper\u001b[0;34m(*args, **kwargs)\u001b[0m\n\u001b[1;32m     86\u001b[0m                 \u001b[0mprofile_name\u001b[0m \u001b[0;34m=\u001b[0m \u001b[0;34m\"Optimizer.step#{}.step\"\u001b[0m\u001b[0;34m.\u001b[0m\u001b[0mformat\u001b[0m\u001b[0;34m(\u001b[0m\u001b[0mobj\u001b[0m\u001b[0;34m.\u001b[0m\u001b[0m__class__\u001b[0m\u001b[0;34m.\u001b[0m\u001b[0m__name__\u001b[0m\u001b[0;34m)\u001b[0m\u001b[0;34m\u001b[0m\u001b[0;34m\u001b[0m\u001b[0m\n\u001b[1;32m     87\u001b[0m                 \u001b[0;32mwith\u001b[0m \u001b[0mtorch\u001b[0m\u001b[0;34m.\u001b[0m\u001b[0mautograd\u001b[0m\u001b[0;34m.\u001b[0m\u001b[0mprofiler\u001b[0m\u001b[0;34m.\u001b[0m\u001b[0mrecord_function\u001b[0m\u001b[0;34m(\u001b[0m\u001b[0mprofile_name\u001b[0m\u001b[0;34m)\u001b[0m\u001b[0;34m:\u001b[0m\u001b[0;34m\u001b[0m\u001b[0;34m\u001b[0m\u001b[0m\n\u001b[0;32m---> 88\u001b[0;31m                     \u001b[0;32mreturn\u001b[0m \u001b[0mfunc\u001b[0m\u001b[0;34m(\u001b[0m\u001b[0;34m*\u001b[0m\u001b[0margs\u001b[0m\u001b[0;34m,\u001b[0m \u001b[0;34m**\u001b[0m\u001b[0mkwargs\u001b[0m\u001b[0;34m)\u001b[0m\u001b[0;34m\u001b[0m\u001b[0;34m\u001b[0m\u001b[0m\n\u001b[0m\u001b[1;32m     89\u001b[0m             \u001b[0;32mreturn\u001b[0m \u001b[0mwrapper\u001b[0m\u001b[0;34m\u001b[0m\u001b[0;34m\u001b[0m\u001b[0m\n\u001b[1;32m     90\u001b[0m \u001b[0;34m\u001b[0m\u001b[0m\n",
      "\u001b[0;32m~/anaconda3/lib/python3.9/site-packages/torch/autograd/grad_mode.py\u001b[0m in \u001b[0;36mdecorate_context\u001b[0;34m(*args, **kwargs)\u001b[0m\n\u001b[1;32m     26\u001b[0m         \u001b[0;32mdef\u001b[0m \u001b[0mdecorate_context\u001b[0m\u001b[0;34m(\u001b[0m\u001b[0;34m*\u001b[0m\u001b[0margs\u001b[0m\u001b[0;34m,\u001b[0m \u001b[0;34m**\u001b[0m\u001b[0mkwargs\u001b[0m\u001b[0;34m)\u001b[0m\u001b[0;34m:\u001b[0m\u001b[0;34m\u001b[0m\u001b[0;34m\u001b[0m\u001b[0m\n\u001b[1;32m     27\u001b[0m             \u001b[0;32mwith\u001b[0m \u001b[0mself\u001b[0m\u001b[0;34m.\u001b[0m\u001b[0m__class__\u001b[0m\u001b[0;34m(\u001b[0m\u001b[0;34m)\u001b[0m\u001b[0;34m:\u001b[0m\u001b[0;34m\u001b[0m\u001b[0;34m\u001b[0m\u001b[0m\n\u001b[0;32m---> 28\u001b[0;31m                 \u001b[0;32mreturn\u001b[0m \u001b[0mfunc\u001b[0m\u001b[0;34m(\u001b[0m\u001b[0;34m*\u001b[0m\u001b[0margs\u001b[0m\u001b[0;34m,\u001b[0m \u001b[0;34m**\u001b[0m\u001b[0mkwargs\u001b[0m\u001b[0;34m)\u001b[0m\u001b[0;34m\u001b[0m\u001b[0;34m\u001b[0m\u001b[0m\n\u001b[0m\u001b[1;32m     29\u001b[0m         \u001b[0;32mreturn\u001b[0m \u001b[0mcast\u001b[0m\u001b[0;34m(\u001b[0m\u001b[0mF\u001b[0m\u001b[0;34m,\u001b[0m \u001b[0mdecorate_context\u001b[0m\u001b[0;34m)\u001b[0m\u001b[0;34m\u001b[0m\u001b[0;34m\u001b[0m\u001b[0m\n\u001b[1;32m     30\u001b[0m \u001b[0;34m\u001b[0m\u001b[0m\n",
      "\u001b[0;32m~/anaconda3/lib/python3.9/site-packages/torch/optim/sgd.py\u001b[0m in \u001b[0;36mstep\u001b[0;34m(self, closure)\u001b[0m\n\u001b[1;32m    134\u001b[0m                         \u001b[0mmomentum_buffer_list\u001b[0m\u001b[0;34m.\u001b[0m\u001b[0mappend\u001b[0m\u001b[0;34m(\u001b[0m\u001b[0mstate\u001b[0m\u001b[0;34m[\u001b[0m\u001b[0;34m'momentum_buffer'\u001b[0m\u001b[0;34m]\u001b[0m\u001b[0;34m)\u001b[0m\u001b[0;34m\u001b[0m\u001b[0;34m\u001b[0m\u001b[0m\n\u001b[1;32m    135\u001b[0m \u001b[0;34m\u001b[0m\u001b[0m\n\u001b[0;32m--> 136\u001b[0;31m             F.sgd(params_with_grad,\n\u001b[0m\u001b[1;32m    137\u001b[0m                   \u001b[0md_p_list\u001b[0m\u001b[0;34m,\u001b[0m\u001b[0;34m\u001b[0m\u001b[0;34m\u001b[0m\u001b[0m\n\u001b[1;32m    138\u001b[0m                   \u001b[0mmomentum_buffer_list\u001b[0m\u001b[0;34m,\u001b[0m\u001b[0;34m\u001b[0m\u001b[0;34m\u001b[0m\u001b[0m\n",
      "\u001b[0;32m~/anaconda3/lib/python3.9/site-packages/torch/optim/_functional.py\u001b[0m in \u001b[0;36msgd\u001b[0;34m(params, d_p_list, momentum_buffer_list, weight_decay, momentum, lr, dampening, nesterov)\u001b[0m\n\u001b[1;32m    178\u001b[0m                 \u001b[0md_p\u001b[0m \u001b[0;34m=\u001b[0m \u001b[0mbuf\u001b[0m\u001b[0;34m\u001b[0m\u001b[0;34m\u001b[0m\u001b[0m\n\u001b[1;32m    179\u001b[0m \u001b[0;34m\u001b[0m\u001b[0m\n\u001b[0;32m--> 180\u001b[0;31m         \u001b[0mparam\u001b[0m\u001b[0;34m.\u001b[0m\u001b[0madd_\u001b[0m\u001b[0;34m(\u001b[0m\u001b[0md_p\u001b[0m\u001b[0;34m,\u001b[0m \u001b[0malpha\u001b[0m\u001b[0;34m=\u001b[0m\u001b[0;34m-\u001b[0m\u001b[0mlr\u001b[0m\u001b[0;34m)\u001b[0m\u001b[0;34m\u001b[0m\u001b[0;34m\u001b[0m\u001b[0m\n\u001b[0m\u001b[1;32m    181\u001b[0m \u001b[0;34m\u001b[0m\u001b[0m\n\u001b[1;32m    182\u001b[0m \u001b[0;34m\u001b[0m\u001b[0m\n",
      "\u001b[0;31mKeyboardInterrupt\u001b[0m: "
     ]
    }
   ],
   "source": [
    "model = train_model(model, criterion, optimizer, 1)"
   ]
  },
  {
   "cell_type": "code",
   "execution_count": null,
   "metadata": {},
   "outputs": [],
   "source": []
  }
 ],
 "metadata": {
  "interpreter": {
   "hash": "f71267cb382aad57a1826fa66d359ca32b8120787d9413fb646158b5b727d965"
  },
  "kernelspec": {
   "display_name": "Python 3.9.7 ('base')",
   "language": "python",
   "name": "python3"
  },
  "language_info": {
   "codemirror_mode": {
    "name": "ipython",
    "version": 3
   },
   "file_extension": ".py",
   "mimetype": "text/x-python",
   "name": "python",
   "nbconvert_exporter": "python",
   "pygments_lexer": "ipython3",
   "version": "3.9.7"
  },
  "orig_nbformat": 4
 },
 "nbformat": 4,
 "nbformat_minor": 2
}
